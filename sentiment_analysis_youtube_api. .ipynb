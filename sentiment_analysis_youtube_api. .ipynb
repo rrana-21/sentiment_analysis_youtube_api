{
 "cells": [
  {
   "cell_type": "markdown",
   "id": "ee2922f7",
   "metadata": {},
   "source": [
    "# Sentiment Analysis of Most Popular Videos on Youtube"
   ]
  },
  {
   "cell_type": "markdown",
   "id": "1e94b1bf",
   "metadata": {},
   "source": [
    "## Why is sentiment analysis necesary on youtube videos?"
   ]
  },
  {
   "cell_type": "markdown",
   "id": "e779a081",
   "metadata": {},
   "source": [
    "Sentiment analysis of the titles of popular YouTube videos can be helpful in gaining insights into the emotions and opinions associated with those titles. Analyzing the sentiment of the words used in the titles can provide an understanding of how viewers might feel about the content before watching it. A positive sentiment can indicate that the video is likely to be well-received, while a negative sentiment can suggest that the video is potentially controversial or disliked. This information can be used by marketers and content creators to create more engaging and successful video content.\n",
    "\n",
    "The following analysis is done in three parts:\n",
    "1) Data collection and preparation \n",
    "\n",
    "2) Sentiment analysis algorithm selection and implementation\n",
    "\n",
    "3) Evaluation and interpretation of results"
   ]
  },
  {
   "cell_type": "markdown",
   "id": "5f227116",
   "metadata": {},
   "source": [
    "## Import Libraries/Packages"
   ]
  },
  {
   "cell_type": "code",
   "execution_count": 99,
   "id": "4256cb6c",
   "metadata": {},
   "outputs": [],
   "source": [
    "#data retrivial\n",
    "from googleapiclient.discovery import build\n",
    "import pandas as pd \n",
    "import numpy as np \n",
    "\n",
    "#progress bar \n",
    "from tqdm.notebook import tqdm\n",
    "\n",
    "#Huggingface pipeline (pip install if needed)\n",
    "from transformers import pipeline\n",
    "\n",
    "#datetime \n",
    "import datetime\n",
    "\n",
    "#visuals\n",
    "import matplotlib.pyplot as plt"
   ]
  },
  {
   "cell_type": "markdown",
   "id": "41cd1dee",
   "metadata": {},
   "source": [
    "## 1) Data collection and preparation "
   ]
  },
  {
   "cell_type": "markdown",
   "id": "93ea2920",
   "metadata": {},
   "source": [
    "The YouTube Data API v3 is used to collect video metadata of the most popular Youtube videos. To ensure the maximum number of the most popular videos (200), pagination is used to iterate through the API's response and retrieve all available results. \n",
    "\n",
    "The results are stored in a List and converted into a pandas DataFrame for easier manipulation and analysis. Before applying any sentiment analysis algorithms or models, I needed to further clean and pre-process the data to ensure that it was accurate and meaningful. This involved ensuring the presence of an 'id' to avoid duplication, dropping unnecessary columns, and structuring the DataFrame for sentiment analysis.\n",
    "\n",
    "More information for Youtube Data API v3 can be found [here](https://developers.google.com/youtube/v3). "
   ]
  },
  {
   "cell_type": "code",
   "execution_count": 112,
   "id": "81a7353c",
   "metadata": {},
   "outputs": [],
   "source": [
    "apikey = 'xxxx'"
   ]
  },
  {
   "cell_type": "code",
   "execution_count": 101,
   "id": "23bb3d80",
   "metadata": {},
   "outputs": [],
   "source": [
    "# Set parameters\n",
    "max_results = 50\n",
    "region_code = 'CA'\n",
    "\n",
    "#build call \n",
    "youtube = build(\"youtube\", \"v3\", developerKey=apikey)\n",
    "\n",
    "#calling the API and storing the video data in the \"videos\" list, while pagnating responses to get max results of 200\n",
    "videos = []\n",
    "pageToken = \"\"\n",
    "while True:\n",
    "    requests = youtube.videos().list(\n",
    "        part='snippet',\n",
    "        chart='mostPopular',\n",
    "        maxResults=max_results,\n",
    "        pageToken=pageToken if pageToken != \"\" else \"\").execute()\n",
    "    \n",
    "    v = requests.get('items', [])\n",
    "    if v:\n",
    "        videos.extend(v)\n",
    "    pageToken = requests.get('nextPageToken')\n",
    "    if not pageToken:\n",
    "        break\n",
    "\n",
    "#create dataframe from the \"videos list\"\n",
    "vid_df = pd.DataFrame(videos)\n",
    "\n",
    "#id is outside of snippet, create a dictionary and apply pd.series to the snippet column to explode the dictionary /\n",
    "#and store the values as columns\n",
    "contents_df = vid_df['snippet'].apply(pd.Series)\n",
    "vid_df = vid_df.join(contents_df)\n",
    "\n",
    "#drop snippet column \n",
    "vid_df = vid_df.drop(columns=['snippet'])"
   ]
  },
  {
   "cell_type": "code",
   "execution_count": 102,
   "id": "bbcaea75",
   "metadata": {},
   "outputs": [
    {
     "data": {
      "text/plain": [
       "200"
      ]
     },
     "execution_count": 102,
     "metadata": {},
     "output_type": "execute_result"
    }
   ],
   "source": [
    "#check for max results, which should be 200\n",
    "len(vid_df)"
   ]
  },
  {
   "cell_type": "markdown",
   "id": "e3bafc62",
   "metadata": {},
   "source": [
    "## 2) Sentiment analysis algorithm selection and implementation"
   ]
  },
  {
   "cell_type": "markdown",
   "id": "e72507f3",
   "metadata": {},
   "source": [
    "#### What is sentiment analysis?"
   ]
  },
  {
   "cell_type": "markdown",
   "id": "aacb64e0",
   "metadata": {},
   "source": [
    "Sentiment analysis is the process of analyzing text, speech, or other forms of communication to determine the emotional tone or sentiment expressed. It involves using natural language processing (NLP) techniques and machine learning algorithms to identify and extract sentiment-related features such as positive or negative language, sarcasm, and irony. Sentiment analysis is used in a variety of applications, including marketing, customer service, product development, and social media monitoring. It helps businesses and organizations gain insights into how their customers feel about their products or services, identify potential issues, and respond to feedback more effectively."
   ]
  },
  {
   "cell_type": "markdown",
   "id": "9c4ede30",
   "metadata": {},
   "source": [
    "#### Approach to conducting sentiment analysis"
   ]
  },
  {
   "cell_type": "markdown",
   "id": "51eb4e88",
   "metadata": {},
   "source": [
    "I'll be using Hugging Face's sentiment analysis model, DistilBERT-base-uncased-finetuned-sst-2-English, which is a pre-trained deep learning model that is capable of analyzing text and classifying it into sentiment categories - positive or negative. The model is trained on a large dataset called the Stanford Sentiment Treebank (SST-2) and has been fine-tuned for the English language. This model is particularly useful for analyzing short-form text, such as social media posts or headlines, and has been shown to achieve state-of-the-art performance on a variety of sentiment analysis tasks.\n",
    "\n",
    "We will be running this model for each title of the 200 most popular youtube videos to extract a sentiment \"label\" and a \"score\".\n",
    "\n",
    "\"***label***\": refers to the sentiment category assigned to the text being analyzed - typically, positive or negative. The label indicates the overall sentiment of the text, based on the sentiment classification model's analysis.\n",
    "\n",
    "\"***score***\": represents the degree of confidence that the model has in its classification. The score is typically a probability value between 0 and 1, where a higher score indicates a greater level of confidence in the assigned sentiment label."
   ]
  },
  {
   "cell_type": "code",
   "execution_count": 103,
   "id": "a6a2c9a8",
   "metadata": {},
   "outputs": [
    {
     "data": {
      "application/vnd.jupyter.widget-view+json": {
       "model_id": "6bd58c3c2cdf4d0dbe67681e996bbf04",
       "version_major": 2,
       "version_minor": 0
      },
      "text/plain": [
       "Downloading:   0%|          | 0.00/18.0k [00:00<?, ?B/s]"
      ]
     },
     "metadata": {},
     "output_type": "display_data"
    }
   ],
   "source": [
    "#specifiy and use the 'distilbert-base-uncased-finetuned-sst-2-english' model for sentiment analysis\n",
    "sent_pipeline = pipeline(model=\"distilbert-base-uncased-finetuned-sst-2-english\")"
   ]
  },
  {
   "cell_type": "code",
   "execution_count": 105,
   "id": "6cf81fce",
   "metadata": {},
   "outputs": [],
   "source": [
    "#run sent_pipeline on title atribute of dataframe, response stored as list of dictionaries in sent_scores attribute\n",
    "vid_df['sent_scores'] = vid_df['title'].apply(lambda x: sent_pipeline(x))\n"
   ]
  },
  {
   "cell_type": "code",
   "execution_count": 106,
   "id": "b451e20f",
   "metadata": {},
   "outputs": [],
   "source": [
    "#remove sent_score values from list and store them only as dictionaries, i.e. explode to store only dictionary\n",
    "results_df = vid_df.explode('sent_scores')\n",
    "\n",
    "#split sent_score dictonaries into it's seperate columns\n",
    "results_df['label'],results_df['conf_score'] = [v['label'] for k,v in results_df['sent_scores'].items()],[v['score'] for k,v in results_df['sent_scores'].items()]"
   ]
  },
  {
   "cell_type": "code",
   "execution_count": 107,
   "id": "83662b4d",
   "metadata": {},
   "outputs": [
    {
     "data": {
      "text/html": [
       "<div>\n",
       "<style scoped>\n",
       "    .dataframe tbody tr th:only-of-type {\n",
       "        vertical-align: middle;\n",
       "    }\n",
       "\n",
       "    .dataframe tbody tr th {\n",
       "        vertical-align: top;\n",
       "    }\n",
       "\n",
       "    .dataframe thead th {\n",
       "        text-align: right;\n",
       "    }\n",
       "</style>\n",
       "<table border=\"1\" class=\"dataframe\">\n",
       "  <thead>\n",
       "    <tr style=\"text-align: right;\">\n",
       "      <th></th>\n",
       "      <th>kind</th>\n",
       "      <th>etag</th>\n",
       "      <th>id</th>\n",
       "      <th>publishedAt</th>\n",
       "      <th>channelId</th>\n",
       "      <th>title</th>\n",
       "      <th>description</th>\n",
       "      <th>thumbnails</th>\n",
       "      <th>channelTitle</th>\n",
       "      <th>tags</th>\n",
       "      <th>categoryId</th>\n",
       "      <th>liveBroadcastContent</th>\n",
       "      <th>localized</th>\n",
       "      <th>defaultAudioLanguage</th>\n",
       "      <th>defaultLanguage</th>\n",
       "      <th>label</th>\n",
       "      <th>conf_score</th>\n",
       "    </tr>\n",
       "  </thead>\n",
       "  <tbody>\n",
       "    <tr>\n",
       "      <th>0</th>\n",
       "      <td>youtube#video</td>\n",
       "      <td>k089l9QCgLZKjnKLz7oT0ZD6VPQ</td>\n",
       "      <td>tiOrbqx62O4</td>\n",
       "      <td>2023-04-26T17:20:33Z</td>\n",
       "      <td>UCiYcA0gJzg855iSKMrX3oHg</td>\n",
       "      <td>this game is for KIDS!? [Amanda The Adventurer]</td>\n",
       "      <td>WELCOME, to Amanda The Adventurer! I'm sure th...</td>\n",
       "      <td>{'default': {'url': 'https://i.ytimg.com/vi/ti...</td>\n",
       "      <td>CoryxKenshin</td>\n",
       "      <td>[amanda the adventurer, amanda, the, adventure...</td>\n",
       "      <td>20</td>\n",
       "      <td>none</td>\n",
       "      <td>{'title': 'this game is for KIDS!? [Amanda The...</td>\n",
       "      <td>en-US</td>\n",
       "      <td>NaN</td>\n",
       "      <td>POSITIVE</td>\n",
       "      <td>0.937538</td>\n",
       "    </tr>\n",
       "    <tr>\n",
       "      <th>1</th>\n",
       "      <td>youtube#video</td>\n",
       "      <td>jPI2SKRsAllUdYQ0JuffzXFjXZM</td>\n",
       "      <td>dd1OSFYzE9s</td>\n",
       "      <td>2023-04-26T16:00:10Z</td>\n",
       "      <td>UCUs8sGiP4avNaYNVO22INhQ</td>\n",
       "      <td>Machine Gun Kelly X Cordae - Doja Freestyle</td>\n",
       "      <td>The Cypher: Machine Gun Kelly x Cordae - Doja ...</td>\n",
       "      <td>{'default': {'url': 'https://i.ytimg.com/vi/dd...</td>\n",
       "      <td>Machine Gun Kelly</td>\n",
       "      <td>[machine gun kelly, cordae, freestyle, doja, t...</td>\n",
       "      <td>10</td>\n",
       "      <td>none</td>\n",
       "      <td>{'title': 'Machine Gun Kelly X Cordae - Doja F...</td>\n",
       "      <td>NaN</td>\n",
       "      <td>NaN</td>\n",
       "      <td>NEGATIVE</td>\n",
       "      <td>0.968692</td>\n",
       "    </tr>\n",
       "    <tr>\n",
       "      <th>2</th>\n",
       "      <td>youtube#video</td>\n",
       "      <td>FyG1nb2nYeRzcnUoVp95eV3gUCs</td>\n",
       "      <td>gWsZ_TytXhg</td>\n",
       "      <td>2023-04-26T18:26:15Z</td>\n",
       "      <td>UCROj9vBjc4ZW3AL4cd_BjHg</td>\n",
       "      <td>Aaron Rodgers Introductory Press Conference | ...</td>\n",
       "      <td>QB Aaron Rodgers speaks with reporters at 1 Je...</td>\n",
       "      <td>{'default': {'url': 'https://i.ytimg.com/vi/gW...</td>\n",
       "      <td>New York Jets</td>\n",
       "      <td>[aaron rodgers, new york jets, ny jets, ny jet...</td>\n",
       "      <td>17</td>\n",
       "      <td>none</td>\n",
       "      <td>{'title': 'Aaron Rodgers Introductory Press Co...</td>\n",
       "      <td>NaN</td>\n",
       "      <td>NaN</td>\n",
       "      <td>POSITIVE</td>\n",
       "      <td>0.981711</td>\n",
       "    </tr>\n",
       "    <tr>\n",
       "      <th>3</th>\n",
       "      <td>youtube#video</td>\n",
       "      <td>8s_a_eaGsOyhp_Cr57rbb8cj_fQ</td>\n",
       "      <td>3D4sYCf1VPI</td>\n",
       "      <td>2023-04-26T15:00:06Z</td>\n",
       "      <td>UC0ZV6M2THA81QT9hrVWJG3A</td>\n",
       "      <td>Apex Legends: Arsenal Launch Trailer</td>\n",
       "      <td>Before there were Legends, there was Ballistic...</td>\n",
       "      <td>{'default': {'url': 'https://i.ytimg.com/vi/3D...</td>\n",
       "      <td>Apex Legends</td>\n",
       "      <td>[apex legends, apex, apex legends trailer, ape...</td>\n",
       "      <td>20</td>\n",
       "      <td>none</td>\n",
       "      <td>{'title': 'Apex Legends: Arsenal Launch Traile...</td>\n",
       "      <td>en</td>\n",
       "      <td>en</td>\n",
       "      <td>POSITIVE</td>\n",
       "      <td>0.968214</td>\n",
       "    </tr>\n",
       "    <tr>\n",
       "      <th>4</th>\n",
       "      <td>youtube#video</td>\n",
       "      <td>Cn5UZmFkIzPTsKqChuuu6-Y4YHE</td>\n",
       "      <td>r51cYVZWKdY</td>\n",
       "      <td>2023-04-25T19:00:18Z</td>\n",
       "      <td>UCiifkYAs_bq1pt_zbNAzYGg</td>\n",
       "      <td>The Flash - Official Trailer 2</td>\n",
       "      <td>Watch worlds collide in trailer 2 for The Flas...</td>\n",
       "      <td>{'default': {'url': 'https://i.ytimg.com/vi/r5...</td>\n",
       "      <td>DC</td>\n",
       "      <td>[Andy Muschietti, Barry Allen, Batman, Ben Aff...</td>\n",
       "      <td>1</td>\n",
       "      <td>none</td>\n",
       "      <td>{'title': 'The Flash - Official Trailer 2', 'd...</td>\n",
       "      <td>en-US</td>\n",
       "      <td>en</td>\n",
       "      <td>NEGATIVE</td>\n",
       "      <td>0.760534</td>\n",
       "    </tr>\n",
       "    <tr>\n",
       "      <th>...</th>\n",
       "      <td>...</td>\n",
       "      <td>...</td>\n",
       "      <td>...</td>\n",
       "      <td>...</td>\n",
       "      <td>...</td>\n",
       "      <td>...</td>\n",
       "      <td>...</td>\n",
       "      <td>...</td>\n",
       "      <td>...</td>\n",
       "      <td>...</td>\n",
       "      <td>...</td>\n",
       "      <td>...</td>\n",
       "      <td>...</td>\n",
       "      <td>...</td>\n",
       "      <td>...</td>\n",
       "      <td>...</td>\n",
       "      <td>...</td>\n",
       "    </tr>\n",
       "    <tr>\n",
       "      <th>195</th>\n",
       "      <td>youtube#video</td>\n",
       "      <td>1P9tMS3Y5CEkAPZlTDJKeaz518c</td>\n",
       "      <td>gUgZy0gQkMQ</td>\n",
       "      <td>2023-04-20T14:00:32Z</td>\n",
       "      <td>UC2trYjcNvLq2KW9gIo9lUIA</td>\n",
       "      <td>I Upgraded Boring Minecraft Structures</td>\n",
       "      <td>I Upgraded Boring Minecraft Structures to prov...</td>\n",
       "      <td>{'default': {'url': 'https://i.ytimg.com/vi/gU...</td>\n",
       "      <td>tazoh</td>\n",
       "      <td>[minecraft hardcore, hardcore series, giant me...</td>\n",
       "      <td>20</td>\n",
       "      <td>none</td>\n",
       "      <td>{'title': 'I Upgraded Boring Minecraft Structu...</td>\n",
       "      <td>NaN</td>\n",
       "      <td>NaN</td>\n",
       "      <td>NEGATIVE</td>\n",
       "      <td>0.999270</td>\n",
       "    </tr>\n",
       "    <tr>\n",
       "      <th>196</th>\n",
       "      <td>youtube#video</td>\n",
       "      <td>AndYIIxHnAu_UGO_-PBICnny8VA</td>\n",
       "      <td>eplNpIVrvEo</td>\n",
       "      <td>2023-04-20T15:00:04Z</td>\n",
       "      <td>UC0ZV6M2THA81QT9hrVWJG3A</td>\n",
       "      <td>Apex Legends Veiled Collection Event</td>\n",
       "      <td>Embrace the mystique of the Veiled Collection ...</td>\n",
       "      <td>{'default': {'url': 'https://i.ytimg.com/vi/ep...</td>\n",
       "      <td>Apex Legends</td>\n",
       "      <td>[apex legends, apex, veiled collection event a...</td>\n",
       "      <td>20</td>\n",
       "      <td>none</td>\n",
       "      <td>{'title': 'Apex Legends Veiled Collection Even...</td>\n",
       "      <td>en</td>\n",
       "      <td>en</td>\n",
       "      <td>NEGATIVE</td>\n",
       "      <td>0.923423</td>\n",
       "    </tr>\n",
       "    <tr>\n",
       "      <th>197</th>\n",
       "      <td>youtube#video</td>\n",
       "      <td>fjnPv2BihsIshiESM_HmVl2fX6E</td>\n",
       "      <td>-D-3pNnLm50</td>\n",
       "      <td>2023-04-22T05:45:18Z</td>\n",
       "      <td>UCQpbsCYqUl-KfJL_X_TDrHg</td>\n",
       "      <td>FULL FIGHT | JMX vs. Le'Veon Bell</td>\n",
       "      <td>JMX vs. Le'Veon Bell from the X Series 006 car...</td>\n",
       "      <td>{'default': {'url': 'https://i.ytimg.com/vi/-D...</td>\n",
       "      <td>DAZN X Series</td>\n",
       "      <td>[boxing, influencers, ksi, social media, cross...</td>\n",
       "      <td>17</td>\n",
       "      <td>none</td>\n",
       "      <td>{'title': 'FULL FIGHT | JMX vs. Le'Veon Bell',...</td>\n",
       "      <td>NaN</td>\n",
       "      <td>NaN</td>\n",
       "      <td>POSITIVE</td>\n",
       "      <td>0.971865</td>\n",
       "    </tr>\n",
       "    <tr>\n",
       "      <th>198</th>\n",
       "      <td>youtube#video</td>\n",
       "      <td>CnYK4ay0mKh5PH7n_LCSf-Wa5do</td>\n",
       "      <td>xrOj7vOxrkw</td>\n",
       "      <td>2023-04-20T21:46:28Z</td>\n",
       "      <td>UCEVVENPnHv-kcp2PqQuJvHg</td>\n",
       "      <td>HEATED!! Gervonta Davis vs. Ryan Garcia • FULL...</td>\n",
       "      <td>FULL VIDEO | HEATED!! Gervonta Davis vs. Ryan ...</td>\n",
       "      <td>{'default': {'url': 'https://i.ytimg.com/vi/xr...</td>\n",
       "      <td>Seconds Out</td>\n",
       "      <td>[boxing, secondsout, seconds out, combat, spor...</td>\n",
       "      <td>17</td>\n",
       "      <td>none</td>\n",
       "      <td>{'title': 'HEATED!! Gervonta Davis vs. Ryan Ga...</td>\n",
       "      <td>NaN</td>\n",
       "      <td>NaN</td>\n",
       "      <td>POSITIVE</td>\n",
       "      <td>0.993477</td>\n",
       "    </tr>\n",
       "    <tr>\n",
       "      <th>199</th>\n",
       "      <td>youtube#video</td>\n",
       "      <td>pegqfs2EhLUNbfGP5V-lstTeOuA</td>\n",
       "      <td>d_g1jUPOxnk</td>\n",
       "      <td>2023-04-22T15:10:25Z</td>\n",
       "      <td>UCmG2EhfOwSjpPMX4LjGY__A</td>\n",
       "      <td>2 ½ NEW Brawlers, Star Points Removed, &amp; Catalog!</td>\n",
       "      <td>Sponsored by Samsung! Check out the S23 Ultra ...</td>\n",
       "      <td>{'default': {'url': 'https://i.ytimg.com/vi/d_...</td>\n",
       "      <td>KairosTime Gaming</td>\n",
       "      <td>[Brawl Stars, BrawlStars, Kairos, KairosTime, ...</td>\n",
       "      <td>20</td>\n",
       "      <td>none</td>\n",
       "      <td>{'title': '2 ½ NEW Brawlers, Star Points Remov...</td>\n",
       "      <td>en</td>\n",
       "      <td>en</td>\n",
       "      <td>NEGATIVE</td>\n",
       "      <td>0.995217</td>\n",
       "    </tr>\n",
       "  </tbody>\n",
       "</table>\n",
       "<p>200 rows × 17 columns</p>\n",
       "</div>"
      ],
      "text/plain": [
       "              kind                         etag           id  \\\n",
       "0    youtube#video  k089l9QCgLZKjnKLz7oT0ZD6VPQ  tiOrbqx62O4   \n",
       "1    youtube#video  jPI2SKRsAllUdYQ0JuffzXFjXZM  dd1OSFYzE9s   \n",
       "2    youtube#video  FyG1nb2nYeRzcnUoVp95eV3gUCs  gWsZ_TytXhg   \n",
       "3    youtube#video  8s_a_eaGsOyhp_Cr57rbb8cj_fQ  3D4sYCf1VPI   \n",
       "4    youtube#video  Cn5UZmFkIzPTsKqChuuu6-Y4YHE  r51cYVZWKdY   \n",
       "..             ...                          ...          ...   \n",
       "195  youtube#video  1P9tMS3Y5CEkAPZlTDJKeaz518c  gUgZy0gQkMQ   \n",
       "196  youtube#video  AndYIIxHnAu_UGO_-PBICnny8VA  eplNpIVrvEo   \n",
       "197  youtube#video  fjnPv2BihsIshiESM_HmVl2fX6E  -D-3pNnLm50   \n",
       "198  youtube#video  CnYK4ay0mKh5PH7n_LCSf-Wa5do  xrOj7vOxrkw   \n",
       "199  youtube#video  pegqfs2EhLUNbfGP5V-lstTeOuA  d_g1jUPOxnk   \n",
       "\n",
       "              publishedAt                 channelId  \\\n",
       "0    2023-04-26T17:20:33Z  UCiYcA0gJzg855iSKMrX3oHg   \n",
       "1    2023-04-26T16:00:10Z  UCUs8sGiP4avNaYNVO22INhQ   \n",
       "2    2023-04-26T18:26:15Z  UCROj9vBjc4ZW3AL4cd_BjHg   \n",
       "3    2023-04-26T15:00:06Z  UC0ZV6M2THA81QT9hrVWJG3A   \n",
       "4    2023-04-25T19:00:18Z  UCiifkYAs_bq1pt_zbNAzYGg   \n",
       "..                    ...                       ...   \n",
       "195  2023-04-20T14:00:32Z  UC2trYjcNvLq2KW9gIo9lUIA   \n",
       "196  2023-04-20T15:00:04Z  UC0ZV6M2THA81QT9hrVWJG3A   \n",
       "197  2023-04-22T05:45:18Z  UCQpbsCYqUl-KfJL_X_TDrHg   \n",
       "198  2023-04-20T21:46:28Z  UCEVVENPnHv-kcp2PqQuJvHg   \n",
       "199  2023-04-22T15:10:25Z  UCmG2EhfOwSjpPMX4LjGY__A   \n",
       "\n",
       "                                                 title  \\\n",
       "0      this game is for KIDS!? [Amanda The Adventurer]   \n",
       "1          Machine Gun Kelly X Cordae - Doja Freestyle   \n",
       "2    Aaron Rodgers Introductory Press Conference | ...   \n",
       "3                 Apex Legends: Arsenal Launch Trailer   \n",
       "4                       The Flash - Official Trailer 2   \n",
       "..                                                 ...   \n",
       "195             I Upgraded Boring Minecraft Structures   \n",
       "196               Apex Legends Veiled Collection Event   \n",
       "197                  FULL FIGHT | JMX vs. Le'Veon Bell   \n",
       "198  HEATED!! Gervonta Davis vs. Ryan Garcia • FULL...   \n",
       "199  2 ½ NEW Brawlers, Star Points Removed, & Catalog!   \n",
       "\n",
       "                                           description  \\\n",
       "0    WELCOME, to Amanda The Adventurer! I'm sure th...   \n",
       "1    The Cypher: Machine Gun Kelly x Cordae - Doja ...   \n",
       "2    QB Aaron Rodgers speaks with reporters at 1 Je...   \n",
       "3    Before there were Legends, there was Ballistic...   \n",
       "4    Watch worlds collide in trailer 2 for The Flas...   \n",
       "..                                                 ...   \n",
       "195  I Upgraded Boring Minecraft Structures to prov...   \n",
       "196  Embrace the mystique of the Veiled Collection ...   \n",
       "197  JMX vs. Le'Veon Bell from the X Series 006 car...   \n",
       "198  FULL VIDEO | HEATED!! Gervonta Davis vs. Ryan ...   \n",
       "199  Sponsored by Samsung! Check out the S23 Ultra ...   \n",
       "\n",
       "                                            thumbnails       channelTitle  \\\n",
       "0    {'default': {'url': 'https://i.ytimg.com/vi/ti...       CoryxKenshin   \n",
       "1    {'default': {'url': 'https://i.ytimg.com/vi/dd...  Machine Gun Kelly   \n",
       "2    {'default': {'url': 'https://i.ytimg.com/vi/gW...      New York Jets   \n",
       "3    {'default': {'url': 'https://i.ytimg.com/vi/3D...       Apex Legends   \n",
       "4    {'default': {'url': 'https://i.ytimg.com/vi/r5...                 DC   \n",
       "..                                                 ...                ...   \n",
       "195  {'default': {'url': 'https://i.ytimg.com/vi/gU...              tazoh   \n",
       "196  {'default': {'url': 'https://i.ytimg.com/vi/ep...       Apex Legends   \n",
       "197  {'default': {'url': 'https://i.ytimg.com/vi/-D...      DAZN X Series   \n",
       "198  {'default': {'url': 'https://i.ytimg.com/vi/xr...        Seconds Out   \n",
       "199  {'default': {'url': 'https://i.ytimg.com/vi/d_...  KairosTime Gaming   \n",
       "\n",
       "                                                  tags categoryId  \\\n",
       "0    [amanda the adventurer, amanda, the, adventure...         20   \n",
       "1    [machine gun kelly, cordae, freestyle, doja, t...         10   \n",
       "2    [aaron rodgers, new york jets, ny jets, ny jet...         17   \n",
       "3    [apex legends, apex, apex legends trailer, ape...         20   \n",
       "4    [Andy Muschietti, Barry Allen, Batman, Ben Aff...          1   \n",
       "..                                                 ...        ...   \n",
       "195  [minecraft hardcore, hardcore series, giant me...         20   \n",
       "196  [apex legends, apex, veiled collection event a...         20   \n",
       "197  [boxing, influencers, ksi, social media, cross...         17   \n",
       "198  [boxing, secondsout, seconds out, combat, spor...         17   \n",
       "199  [Brawl Stars, BrawlStars, Kairos, KairosTime, ...         20   \n",
       "\n",
       "    liveBroadcastContent                                          localized  \\\n",
       "0                   none  {'title': 'this game is for KIDS!? [Amanda The...   \n",
       "1                   none  {'title': 'Machine Gun Kelly X Cordae - Doja F...   \n",
       "2                   none  {'title': 'Aaron Rodgers Introductory Press Co...   \n",
       "3                   none  {'title': 'Apex Legends: Arsenal Launch Traile...   \n",
       "4                   none  {'title': 'The Flash - Official Trailer 2', 'd...   \n",
       "..                   ...                                                ...   \n",
       "195                 none  {'title': 'I Upgraded Boring Minecraft Structu...   \n",
       "196                 none  {'title': 'Apex Legends Veiled Collection Even...   \n",
       "197                 none  {'title': 'FULL FIGHT | JMX vs. Le'Veon Bell',...   \n",
       "198                 none  {'title': 'HEATED!! Gervonta Davis vs. Ryan Ga...   \n",
       "199                 none  {'title': '2 ½ NEW Brawlers, Star Points Remov...   \n",
       "\n",
       "    defaultAudioLanguage defaultLanguage     label  conf_score  \n",
       "0                  en-US             NaN  POSITIVE    0.937538  \n",
       "1                    NaN             NaN  NEGATIVE    0.968692  \n",
       "2                    NaN             NaN  POSITIVE    0.981711  \n",
       "3                     en              en  POSITIVE    0.968214  \n",
       "4                  en-US              en  NEGATIVE    0.760534  \n",
       "..                   ...             ...       ...         ...  \n",
       "195                  NaN             NaN  NEGATIVE    0.999270  \n",
       "196                   en              en  NEGATIVE    0.923423  \n",
       "197                  NaN             NaN  POSITIVE    0.971865  \n",
       "198                  NaN             NaN  POSITIVE    0.993477  \n",
       "199                   en              en  NEGATIVE    0.995217  \n",
       "\n",
       "[200 rows x 17 columns]"
      ]
     },
     "execution_count": 107,
     "metadata": {},
     "output_type": "execute_result"
    }
   ],
   "source": [
    "#drop sent_scores column \n",
    "results_df = results_df.drop('sent_scores', axis=1)\n",
    "\n",
    "results_df"
   ]
  },
  {
   "cell_type": "markdown",
   "id": "2dc38369",
   "metadata": {},
   "source": [
    "## Evaluation and interpretation of results"
   ]
  },
  {
   "cell_type": "markdown",
   "id": "c29b47fb",
   "metadata": {},
   "source": [
    "#### Binary Mapping"
   ]
  },
  {
   "cell_type": "markdown",
   "id": "2278647d",
   "metadata": {},
   "source": [
    "A new column (\"***binary_label***\") was added to the dataset to map sentiment scores to a binary label. Specifically, scores indicating a positive sentiment were labeled as 1, while scores indicating a negative sentiment were labeled as -1. \n"
   ]
  },
  {
   "cell_type": "code",
   "execution_count": 108,
   "id": "ea7700d8",
   "metadata": {},
   "outputs": [],
   "source": [
    "#create \"label_score\" column which assigns 1 for positive or 0 for negative, this will help us get an average for the sentiment\n",
    "results_df['binary_label'] = results_df['label'].apply(lambda x: 1 if x == 'POSITIVE' else -1)"
   ]
  },
  {
   "cell_type": "markdown",
   "id": "27386b50",
   "metadata": {},
   "source": [
    "#### Weighted Voting System"
   ]
  },
  {
   "cell_type": "markdown",
   "id": "3b4eddef",
   "metadata": {},
   "source": [
    "For each record, multiply the sentiment category by its confidence score. If the sentiment category is \"positive\", multiply by 1. If it is \"negative\", multiply by -1. This will give you a score for each record, with higher scores indicating stronger sentiment."
   ]
  },
  {
   "cell_type": "code",
   "execution_count": 109,
   "id": "af82dba5",
   "metadata": {},
   "outputs": [],
   "source": [
    "results_df['sentiment_scores'] = results_df['binary_label'] * results_df['conf_score']"
   ]
  },
  {
   "cell_type": "markdown",
   "id": "0196b135",
   "metadata": {},
   "source": [
    "The label_score was used to calculate an average sentiment score for each video in the dataset. Videos with scores positive sentiment scores were interpreted as having a more positive sentiment, while videos with negative sentiment scores were interpreted as having a more negative sentiment. "
   ]
  },
  {
   "cell_type": "code",
   "execution_count": 110,
   "id": "aeb16b84",
   "metadata": {},
   "outputs": [
    {
     "data": {
      "text/plain": [
       "0.1980971097946167"
      ]
     },
     "execution_count": 110,
     "metadata": {},
     "output_type": "execute_result"
    }
   ],
   "source": [
    "#get sum of sentiment_scores\n",
    "sum_of_score = results_df['sentiment_scores'].sum()\n",
    "\n",
    "sum_of_score"
   ]
  },
  {
   "cell_type": "markdown",
   "id": "c2a34d8b",
   "metadata": {},
   "source": [
    "#### Evaluation and Results"
   ]
  },
  {
   "cell_type": "markdown",
   "id": "df98b435",
   "metadata": {},
   "source": [
    "By employing this binary mapping and weighted voting system, we can accurately use the predict a sentiment score by taking into account both the label (*binary_label*) and the confidence score (*conf_score*) for each video title, giving more weight to video titles with higher confidence scores. This approach can help to produce more accurate results than a simple majority vote or a binary classification based on a fixed threshold.\n",
    "\n",
    "This overall sentiment can provide a nuanced understanding of the sentiment of these videos, which can be used to better inform creators of attractive and meaningful titles. "
   ]
  },
  {
   "cell_type": "code",
   "execution_count": 111,
   "id": "45aca5b1",
   "metadata": {},
   "outputs": [
    {
     "name": "stdout",
     "output_type": "stream",
     "text": [
      "The overall sentiment for the most popular 200 videos on 2023-04-27 is positive.\n"
     ]
    }
   ],
   "source": [
    "today = datetime.date.today()\n",
    "\n",
    "sentiment =''\n",
    "if sum_of_score >= 0:\n",
    "    sentiment = 'positive'\n",
    "else:\n",
    "    sentiment = 'negative'\n",
    "\n",
    "print(r'The overall sentiment for the most popular 200 videos on {0} is {1}.'.format(today, sentiment))"
   ]
  },
  {
   "cell_type": "markdown",
   "id": "11c69780",
   "metadata": {},
   "source": [
    "#### Further Research/Findings"
   ]
  },
  {
   "cell_type": "markdown",
   "id": "2c217a59",
   "metadata": {},
   "source": [
    "With the sentiment scores now calculated and mapped to the videos, further research can be conducted to explore the relationship between sentiment and video performance. For example, by examining whether videos with more positive sentiment tend to receive more views or engagement, one can gain insight into the types of titles and topics that are most appealing to YouTube viewers. This information can then be used to assist with title selection, ensuring that titles are not only attention-grabbing but also convey a positive sentiment that resonates with viewers. By analyzing the relationship between sentiment and video performance, researchers can continue to refine and improve their understanding of the factors that contribute to successful YouTube content."
   ]
  }
 ],
 "metadata": {
  "kernelspec": {
   "display_name": "Python 3 (ipykernel)",
   "language": "python",
   "name": "python3"
  },
  "language_info": {
   "codemirror_mode": {
    "name": "ipython",
    "version": 3
   },
   "file_extension": ".py",
   "mimetype": "text/x-python",
   "name": "python",
   "nbconvert_exporter": "python",
   "pygments_lexer": "ipython3",
   "version": "3.9.12"
  }
 },
 "nbformat": 4,
 "nbformat_minor": 5
}
